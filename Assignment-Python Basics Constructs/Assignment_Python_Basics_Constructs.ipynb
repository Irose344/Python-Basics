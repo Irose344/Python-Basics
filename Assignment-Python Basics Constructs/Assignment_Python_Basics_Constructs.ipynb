{
  "nbformat": 4,
  "nbformat_minor": 0,
  "metadata": {
    "colab": {
      "provenance": []
    },
    "kernelspec": {
      "name": "python3",
      "display_name": "Python 3"
    },
    "language_info": {
      "name": "python"
    }
  },
  "cells": [
    {
      "cell_type": "code",
      "source": [
        "'''Q1. Using Python script as a calculator\n",
        "Create the variables n, r, p and assign them values 10, 5, and 100 respectively. Then\n",
        "evaluate the following expression in the Python console.\n",
        "𝐴 = 𝑝 (1 + 𝑟/ 100)n\n",
        "a. 100\n",
        "b. 162.89\n",
        "c. 189\n",
        "d. None of the above'''\n",
        "\n",
        "n,r,p=10,5,100\n",
        "A=p*(1+r/100)*n\n",
        "print(A)\n",
        "\n",
        "#Answer -D"
      ],
      "metadata": {
        "colab": {
          "base_uri": "https://localhost:8080/"
        },
        "id": "w92xDHnLvZSQ",
        "outputId": "42d0b9f9-0022-4cd1-897f-f2753d6f93d8"
      },
      "execution_count": null,
      "outputs": [
        {
          "output_type": "stream",
          "name": "stdout",
          "text": [
            "1050.0\n"
          ]
        }
      ]
    },
    {
      "cell_type": "code",
      "source": [
        "'''\n",
        "Q2. In a given string format operation, how will you print the given string.\n",
        "A = 10\n",
        "B = 20\n",
        "Str = \"There are {} students in the class, with {} who play at least one sport.\"\n",
        "a. print(string.format(a,b))\n",
        "b. print(string+a+b)\n",
        "c. print(string.format(b,a))\n",
        "d. None of the above'''\n",
        "a,b=10,20\n",
        "Str = \"There are {} students in the class, with {} who play at least one sport.\"\n",
        "print(Str.format(b,a))\n",
        "\n",
        "#Answer: C"
      ],
      "metadata": {
        "id": "Kdgi1U4mv6rp",
        "colab": {
          "base_uri": "https://localhost:8080/"
        },
        "outputId": "9c219412-f161-4b8f-f089-10f32f7348fa"
      },
      "execution_count": null,
      "outputs": [
        {
          "output_type": "stream",
          "name": "stdout",
          "text": [
            "There are 20 students in the class, with 10 who play at least one sport.\n"
          ]
        }
      ]
    },
    {
      "cell_type": "code",
      "source": [
        "'''Q3. In a given sample string, How do you print a double quoted string in between a\n",
        "regular\n",
        "string using the escape character?\n",
        "Sample output = It goes without saying, “Time is Money”, and none can deny it.\n",
        "a. print(“It goes without saying, \\“Time is Money\\”, and none can deny it.”)\n",
        "b. print(“It goes without saying, \\Time is Money\\, and none can deny it.”)\n",
        "c. print(“It goes without saying” + “Time is Money” + “and none can deny it.”)\n",
        "d. None of the above.'''\n",
        "#Answer]A\n"
      ],
      "metadata": {
        "colab": {
          "base_uri": "https://localhost:8080/"
        },
        "id": "1nrjwVPbGo4S",
        "outputId": "8a2ee3f6-2465-4897-db19-8c6ba92d02ef"
      },
      "execution_count": 6,
      "outputs": [
        {
          "output_type": "stream",
          "name": "stdout",
          "text": [
            "It goes without saying, \"Time is Money\", and none can deny it.\n"
          ]
        }
      ]
    },
    {
      "cell_type": "code",
      "source": [
        "'''\n",
        "Q4. What will be the output of the following code?\n",
        "x = lambda a,b: a//b\n",
        "x(10,3)\n",
        "a. 3.3333333333\n",
        "b. 3\n",
        "c. 30\n",
        "d. 1000'''\n",
        "\n",
        "x = lambda a,b: a//b\n",
        "x(10,3)\n",
        "\n",
        "#Answer:b"
      ],
      "metadata": {
        "colab": {
          "base_uri": "https://localhost:8080/"
        },
        "id": "4fDfbpTOwdbJ",
        "outputId": "2aeda4c6-537e-4e57-e2e0-fcc1b86b08f1"
      },
      "execution_count": null,
      "outputs": [
        {
          "output_type": "execute_result",
          "data": {
            "text/plain": [
              "3"
            ]
          },
          "metadata": {},
          "execution_count": 12
        }
      ]
    },
    {
      "cell_type": "code",
      "source": [
        "'''\n",
        "Q5. What will be the output of the following code?\n",
        "A = 10\n",
        "B = 12\n",
        "print(\"Smaller\") if A == B else print(\"Greater\") if A < B else print(\"True\")\n",
        "a. True\n",
        "b. Smaller\n",
        "c. Greater\n",
        "d. None of the above'''\n",
        "A=10\n",
        "B=12\n",
        "if A==B:\n",
        "  print(\"Smaller\")\n",
        "elif(A<B):\n",
        "  print(\"Greater\")\n",
        "else:\n",
        "  print(\"True\")\n",
        "\n",
        "#Answer: C"
      ],
      "metadata": {
        "colab": {
          "base_uri": "https://localhost:8080/"
        },
        "id": "MgwJRswtwsj7",
        "outputId": "4baf6adc-6248-407a-f2ac-d292a271e5b8"
      },
      "execution_count": null,
      "outputs": [
        {
          "output_type": "stream",
          "name": "stdout",
          "text": [
            "Greater\n"
          ]
        }
      ]
    },
    {
      "cell_type": "code",
      "source": [
        "'''Q6. What will be the output of the following code?\n",
        "\n",
        "a. [2 7 3 5 4 6]\n",
        "b. TypeError\n",
        "c. NameError: name 'numpy' is not defined\n",
        "d. None of the above'''\n",
        "\n",
        "import numpy as np\n",
        "my_list1=[2,7,3,5,4,6]\n",
        "print(my_list1)\n",
        "arr1=numpy.array(my_list1,dtype=int)\n",
        "print(arr1)\n",
        "\n",
        "#Answer: c. NameError: name 'numpy' is not defined"
      ],
      "metadata": {
        "colab": {
          "base_uri": "https://localhost:8080/",
          "height": 217
        },
        "id": "v0dejNDPKgUc",
        "outputId": "58d046dd-39b6-4d30-9112-33f5266cba15"
      },
      "execution_count": null,
      "outputs": [
        {
          "output_type": "stream",
          "name": "stdout",
          "text": [
            "[2, 7, 3, 5, 4, 6]\n"
          ]
        },
        {
          "output_type": "error",
          "ename": "NameError",
          "evalue": "name 'numpy' is not defined",
          "traceback": [
            "\u001b[0;31m---------------------------------------------------------------------------\u001b[0m",
            "\u001b[0;31mNameError\u001b[0m                                 Traceback (most recent call last)",
            "\u001b[0;32m<ipython-input-4-ef6053f35182>\u001b[0m in \u001b[0;36m<cell line: 11>\u001b[0;34m()\u001b[0m\n\u001b[1;32m      9\u001b[0m \u001b[0mmy_list1\u001b[0m\u001b[0;34m=\u001b[0m\u001b[0;34m[\u001b[0m\u001b[0;36m2\u001b[0m\u001b[0;34m,\u001b[0m\u001b[0;36m7\u001b[0m\u001b[0;34m,\u001b[0m\u001b[0;36m3\u001b[0m\u001b[0;34m,\u001b[0m\u001b[0;36m5\u001b[0m\u001b[0;34m,\u001b[0m\u001b[0;36m4\u001b[0m\u001b[0;34m,\u001b[0m\u001b[0;36m6\u001b[0m\u001b[0;34m]\u001b[0m\u001b[0;34m\u001b[0m\u001b[0;34m\u001b[0m\u001b[0m\n\u001b[1;32m     10\u001b[0m \u001b[0mprint\u001b[0m\u001b[0;34m(\u001b[0m\u001b[0mmy_list1\u001b[0m\u001b[0;34m)\u001b[0m\u001b[0;34m\u001b[0m\u001b[0;34m\u001b[0m\u001b[0m\n\u001b[0;32m---> 11\u001b[0;31m \u001b[0marr1\u001b[0m\u001b[0;34m=\u001b[0m\u001b[0mnumpy\u001b[0m\u001b[0;34m.\u001b[0m\u001b[0marray\u001b[0m\u001b[0;34m(\u001b[0m\u001b[0mmy_list1\u001b[0m\u001b[0;34m,\u001b[0m\u001b[0mdtype\u001b[0m\u001b[0;34m=\u001b[0m\u001b[0mint\u001b[0m\u001b[0;34m)\u001b[0m\u001b[0;34m\u001b[0m\u001b[0;34m\u001b[0m\u001b[0m\n\u001b[0m\u001b[1;32m     12\u001b[0m \u001b[0mprint\u001b[0m\u001b[0;34m(\u001b[0m\u001b[0marr1\u001b[0m\u001b[0;34m)\u001b[0m\u001b[0;34m\u001b[0m\u001b[0;34m\u001b[0m\u001b[0m\n",
            "\u001b[0;31mNameError\u001b[0m: name 'numpy' is not defined"
          ]
        }
      ]
    },
    {
      "cell_type": "code",
      "source": [
        "'''Q7. Create a string called ‘string’ with the value as “Machine Learning”. Which code(s)\n",
        "is/are appropriate to slice the substring “Learn”?\n",
        "a. string[slice(13,8,1)]\n",
        "b. string[slice(1,8,1)]\n",
        "c. string[8:14]\n",
        "d. string[slice(8,13,1)]'''\n",
        "\n",
        "string=\"Machine Learning\"\n",
        "string[slice(8,13,1)]\n",
        "\n",
        "#Answer]D"
      ],
      "metadata": {
        "colab": {
          "base_uri": "https://localhost:8080/",
          "height": 36
        },
        "id": "RBB1pCJ_HVAA",
        "outputId": "5ebdf048-f41e-430d-a4ed-5893417b863a"
      },
      "execution_count": 8,
      "outputs": [
        {
          "output_type": "execute_result",
          "data": {
            "text/plain": [
              "'Learn'"
            ],
            "application/vnd.google.colaboratory.intrinsic+json": {
              "type": "string"
            }
          },
          "metadata": {},
          "execution_count": 8
        }
      ]
    },
    {
      "cell_type": "code",
      "source": [
        "'''Q8. Create a sequence of numbers from 10 to 25 and increment by 4. What is the index\n",
        "of the\n",
        "value 18?\n",
        "a. 3\n",
        "b. 2\n",
        "c. 0\n",
        "d. 1'''\n",
        "\n",
        "seq=list(range(10,26,4))\n",
        "print(seq)\n",
        "print(seq.index(18))\n",
        "\n",
        "#Answer: b:2"
      ],
      "metadata": {
        "colab": {
          "base_uri": "https://localhost:8080/"
        },
        "id": "NeBUlSbYLYZM",
        "outputId": "7fcd9068-bdf0-4e83-9fbd-84fc33f915f7"
      },
      "execution_count": null,
      "outputs": [
        {
          "output_type": "stream",
          "name": "stdout",
          "text": [
            "[10, 14, 18, 22]\n",
            "2\n"
          ]
        }
      ]
    },
    {
      "cell_type": "code",
      "source": [
        "'''Q9. Which of the following is true with respect to the below codes?\n",
        "a. num1 = num2\n",
        "b. num1 ≠ num2\n",
        "c. num1 < num2\n",
        "d. num1 > num2'''\n",
        "\n",
        "num1=5**4\n",
        "num2=pow(5,4)\n",
        "print(num1,num2)\n",
        "\n",
        "#Answer : a"
      ],
      "metadata": {
        "colab": {
          "base_uri": "https://localhost:8080/"
        },
        "id": "y2FIkRVBxjzZ",
        "outputId": "e0d6c1a7-9eea-42f5-cff4-c3321237aa5b"
      },
      "execution_count": null,
      "outputs": [
        {
          "output_type": "stream",
          "name": "stdout",
          "text": [
            "625 625\n"
          ]
        }
      ]
    },
    {
      "cell_type": "code",
      "source": [
        "'''Q10.A Python NameError exception is raised when: -\n",
        "a. Trying to access a variable which has not been defined\n",
        "b. Trying to access a key in a dictionary that does not exist\n",
        "\n",
        "c. Accessing a column with misspelled column name\n",
        "d. Accessing the function from a module that has not been imported'''\n",
        "\n",
        "#Answer]A"
      ],
      "metadata": {
        "id": "6QSJZ1oeFq20"
      },
      "execution_count": null,
      "outputs": []
    },
    {
      "cell_type": "code",
      "source": [
        "'''Q11.What type of exception will be raised for the code given below?\n",
        "\n",
        "a. NameError\n",
        "b. KeyError\n",
        "c. ValueError\n",
        "d. AttributeError'''\n",
        "\n",
        "x=\"string\"\n",
        "int(x)\n",
        "\n",
        "#Answer: c:ValueError"
      ],
      "metadata": {
        "colab": {
          "base_uri": "https://localhost:8080/",
          "height": 181
        },
        "id": "gc-goB_HL1Y_",
        "outputId": "a002d60b-8394-48f4-f106-6bc846aa88b9"
      },
      "execution_count": null,
      "outputs": [
        {
          "output_type": "error",
          "ename": "ValueError",
          "evalue": "invalid literal for int() with base 10: 'string'",
          "traceback": [
            "\u001b[0;31m---------------------------------------------------------------------------\u001b[0m",
            "\u001b[0;31mValueError\u001b[0m                                Traceback (most recent call last)",
            "\u001b[0;32m<ipython-input-9-9de56d9e9f11>\u001b[0m in \u001b[0;36m<cell line: 9>\u001b[0;34m()\u001b[0m\n\u001b[1;32m      7\u001b[0m \u001b[0;34m\u001b[0m\u001b[0m\n\u001b[1;32m      8\u001b[0m \u001b[0mx\u001b[0m\u001b[0;34m=\u001b[0m\u001b[0;34m\"string\"\u001b[0m\u001b[0;34m\u001b[0m\u001b[0;34m\u001b[0m\u001b[0m\n\u001b[0;32m----> 9\u001b[0;31m \u001b[0mint\u001b[0m\u001b[0;34m(\u001b[0m\u001b[0mx\u001b[0m\u001b[0;34m)\u001b[0m\u001b[0;34m\u001b[0m\u001b[0;34m\u001b[0m\u001b[0m\n\u001b[0m",
            "\u001b[0;31mValueError\u001b[0m: invalid literal for int() with base 10: 'string'"
          ]
        }
      ]
    },
    {
      "cell_type": "code",
      "source": [
        "'''Q12.A FileNotFoundError exception is raised by operating system errors when: -\n",
        "a. Trying to create a file or directory which already exists\n",
        "b. A file or directory is requested but does not exist in the working directory\n",
        "c. Trying to run an operation without the adequate access rights\n",
        "d. A directory operation, os.listdir() is requested on something which is not a\n",
        "directory'''\n",
        "\n",
        "#Answer]B"
      ],
      "metadata": {
        "id": "rjIqAfSCGYvN"
      },
      "execution_count": null,
      "outputs": []
    },
    {
      "cell_type": "code",
      "source": [
        "'''Q13.Consider a variable Z. The value of Z is \"ID-5632\". Data type of Z is: -\n",
        "a. Complex\n",
        "b. Character\n",
        "c. Integer\n",
        "d. Boolean'''\n",
        "\n",
        "Z=\"ID-5632\"\n",
        "type(Z)\n",
        "\n",
        "#Answer :b"
      ],
      "metadata": {
        "colab": {
          "base_uri": "https://localhost:8080/"
        },
        "id": "xFT_WCTVzDM8",
        "outputId": "88197dda-6444-4100-c551-ba4686022047"
      },
      "execution_count": null,
      "outputs": [
        {
          "output_type": "execute_result",
          "data": {
            "text/plain": [
              "str"
            ]
          },
          "metadata": {},
          "execution_count": 21
        }
      ]
    },
    {
      "cell_type": "code",
      "source": [
        "'''Q14.Which of the following variable(s) are character data type?\n",
        "a. K= “4”\n",
        "b. J= “Welcome”\n",
        "c. L= “?”\n",
        "d. All of the above'''\n",
        "\n",
        "K= '4'\n",
        "J= 'Welcome'\n",
        "L= '?'\n",
        "\n",
        "#Ans: d"
      ],
      "metadata": {
        "colab": {
          "base_uri": "https://localhost:8080/"
        },
        "id": "wk2MQ3_tMo_5",
        "outputId": "5f977055-9de1-450f-f177-48ebd8430ac2"
      },
      "execution_count": null,
      "outputs": [
        {
          "output_type": "execute_result",
          "data": {
            "text/plain": [
              "str"
            ]
          },
          "metadata": {},
          "execution_count": 13
        }
      ]
    },
    {
      "cell_type": "code",
      "source": [
        "'''Q15.Choose the symbol/s that does not have the ability to convert any values to string?\n",
        "a. ( )\n",
        "b. “ ”\n",
        "c. {}\n",
        "d. #'''\n",
        "\n",
        "#Answer]D"
      ],
      "metadata": {
        "id": "AetEIbd2GCj4"
      },
      "execution_count": null,
      "outputs": []
    },
    {
      "cell_type": "code",
      "source": [
        "'''Q16.Create a dictionary ‘Country’ that maps the following countries to their capitals\n",
        "respectively:\n",
        "\n",
        "Country India China Japan Qatar France\n",
        "State Delhi Beijing Tokyo Doha Marseilles\n",
        "Find 2 commands to replace “Marseilles” with “Paris” is:'''\n",
        "\n",
        "Country_State={\"India\":\"Delhi\",\"China\":\"Beijing\",\"Japan\":\"Tokyo\",\"Qatar\":\"Doha\",\"France\":\"Marseilles\"}\n",
        "\n",
        "Country_State[\"France\"]=\"Paris\"\n",
        "#or\n",
        "update_dict={\"France\":\"Paris\"}\n",
        "Country_State.update(update_dict)"
      ],
      "metadata": {
        "colab": {
          "base_uri": "https://localhost:8080/"
        },
        "id": "wUI0-jYwNPCO",
        "outputId": "5946f75c-1a98-4e0f-8a12-f13247e1ded8"
      },
      "execution_count": null,
      "outputs": [
        {
          "output_type": "stream",
          "name": "stdout",
          "text": [
            "{'India': 'Delhi', 'China': 'Beijing', 'Japan': 'Tokyo', 'Qatar': 'Doha', 'France': 'Marseilles'}\n",
            "{'India': 'Delhi', 'China': 'Beijing', 'Japan': 'Tokyo', 'Qatar': 'Doha', 'France': 'Paris'}\n"
          ]
        }
      ]
    },
    {
      "cell_type": "code",
      "source": [
        "'''Q17. Create the tuples given below\n",
        "tuple_1 = (1,5,6,7,8)\n",
        "tuple_2 = (8,9,4)\n",
        "Identify which of the following code does not work on a tuple.\n",
        "a. sum(tuple_1)\n",
        "b. len(tuple_2)\n",
        "c. tuple_2 + tuple_1\n",
        "d. tuple_1[3] = 45'''\n",
        "#Answer :D"
      ],
      "metadata": {
        "colab": {
          "base_uri": "https://localhost:8080/",
          "height": 176
        },
        "id": "HdM0xc8KyOjN",
        "outputId": "5f10a0d6-f1f5-47c8-da0c-f8c22ea5fb9f"
      },
      "execution_count": null,
      "outputs": [
        {
          "output_type": "error",
          "ename": "TypeError",
          "evalue": "'tuple' object does not support item assignment",
          "traceback": [
            "\u001b[0;31m---------------------------------------------------------------------------\u001b[0m",
            "\u001b[0;31mTypeError\u001b[0m                                 Traceback (most recent call last)",
            "\u001b[0;32m<ipython-input-17-5922f1778d0b>\u001b[0m in \u001b[0;36m<cell line: 11>\u001b[0;34m()\u001b[0m\n\u001b[1;32m      9\u001b[0m \u001b[0mtuple_1\u001b[0m \u001b[0;34m=\u001b[0m \u001b[0;34m(\u001b[0m\u001b[0;36m1\u001b[0m\u001b[0;34m,\u001b[0m\u001b[0;36m5\u001b[0m\u001b[0;34m,\u001b[0m\u001b[0;36m6\u001b[0m\u001b[0;34m,\u001b[0m\u001b[0;36m7\u001b[0m\u001b[0;34m,\u001b[0m\u001b[0;36m8\u001b[0m\u001b[0;34m)\u001b[0m\u001b[0;34m\u001b[0m\u001b[0;34m\u001b[0m\u001b[0m\n\u001b[1;32m     10\u001b[0m \u001b[0mtuple_2\u001b[0m \u001b[0;34m=\u001b[0m \u001b[0;34m(\u001b[0m\u001b[0;36m8\u001b[0m\u001b[0;34m,\u001b[0m\u001b[0;36m9\u001b[0m\u001b[0;34m,\u001b[0m\u001b[0;36m4\u001b[0m\u001b[0;34m)\u001b[0m\u001b[0;34m\u001b[0m\u001b[0;34m\u001b[0m\u001b[0m\n\u001b[0;32m---> 11\u001b[0;31m \u001b[0mtuple_1\u001b[0m\u001b[0;34m[\u001b[0m\u001b[0;36m3\u001b[0m\u001b[0;34m]\u001b[0m\u001b[0;34m=\u001b[0m\u001b[0;36m45\u001b[0m\u001b[0;34m\u001b[0m\u001b[0;34m\u001b[0m\u001b[0m\n\u001b[0m",
            "\u001b[0;31mTypeError\u001b[0m: 'tuple' object does not support item assignment"
          ]
        }
      ]
    },
    {
      "cell_type": "code",
      "source": [
        "'''Q18. How many elements in the following data structure?\n",
        "S={1,2,3,4,4,4,5,6}'''\n",
        "S={1,2,3,4,4,4,5,6}\n",
        "len(S)\n",
        "\n",
        "#Answer :6"
      ],
      "metadata": {
        "colab": {
          "base_uri": "https://localhost:8080/"
        },
        "id": "ilJIa7T1yoaZ",
        "outputId": "896cc194-940d-4790-d79b-0f2f9c11f7dd"
      },
      "execution_count": null,
      "outputs": [
        {
          "output_type": "execute_result",
          "data": {
            "text/plain": [
              "6"
            ]
          },
          "metadata": {},
          "execution_count": 18
        }
      ]
    },
    {
      "cell_type": "code",
      "execution_count": null,
      "metadata": {
        "colab": {
          "base_uri": "https://localhost:8080/"
        },
        "id": "fLQt8FdbpweW",
        "outputId": "67f77b45-3d33-48e9-f192-fce9581bdce1"
      },
      "outputs": [
        {
          "output_type": "stream",
          "name": "stdout",
          "text": [
            "[(0, 0), (0, 1), (0, 2), (0, 3), (0, 4), (1, 0), (1, 1), (1, 2), (1, 3), (1, 4), (2, 0), (2, 1), (2, 2), (2, 3), (2, 4), (3, 0), (3, 1), (3, 2), (3, 3), (3, 4), (4, 0), (4, 1), (4, 2), (4, 3)]\n"
          ]
        }
      ],
      "source": [
        "'''\n",
        "Q19.Write a function which finds all pythagorean triplets of triangles whose sides are no\n",
        "greater than a natural number N.'''\n",
        "\n",
        "def pythagorean(N):\n",
        "  import math\n",
        "  a=0\n",
        "  b=0\n",
        "  l=[]\n",
        "  for i in range(N):\n",
        "    a=i\n",
        "    b=a\n",
        "    for b in range(N):\n",
        "      c=math.sqrt(a**2+b**2)\n",
        "      if c<=N:\n",
        "        l.append((a,b))\n",
        "  return l\n",
        "\n",
        "print(pythagorean(5))\n",
        "\n",
        "\n"
      ]
    }
  ]
}